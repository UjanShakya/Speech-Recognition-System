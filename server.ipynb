{
 "cells": [
  {
   "cell_type": "code",
   "execution_count": 2,
   "id": "d8fe2c08",
   "metadata": {},
   "outputs": [],
   "source": [
    "import random\n",
    "import os\n",
    "from flask import Flask, request, jsonify\n",
    "from keyword_spotting_service import Keyword_Spotting_Service\n"
   ]
  },
  {
   "cell_type": "code",
   "execution_count": null,
   "id": "30916ec0",
   "metadata": {},
   "outputs": [],
   "source": [
    "# instantiate flask app\n",
    "app = Flask(__name__)\n",
    "\n",
    "\n",
    "@app.route(\"/predict\", methods=[\"POST\"])\n",
    "def predict():\n",
    "    \"\"\"Endpoint to predict keyword\n",
    "    :return (json): This endpoint returns a json file with the following format:\n",
    "        {\n",
    "            \"keyword\": \"down\"\n",
    "        }\n",
    "    \"\"\"\n",
    "\n",
    "    # get file from POST request and save it\n",
    "    audio_file = request.files[\"file\"]\n",
    "    file_name = str(random.randint(0, 100000))\n",
    "    audio_file.save(file_name)\n",
    "\n",
    "    # instantiate keyword spotting service singleton and get prediction\n",
    "    kss = Keyword_Spotting_Service()\n",
    "    predicted_keyword = kss.predict(file_name)\n",
    "\n",
    "    # we don't need the audio file any more - let's delete it!\n",
    "    os.remove(file_name)\n",
    "\n",
    "    # send back result as a json file\n",
    "    result = {\"keyword\": predicted_keyword}\n",
    "    return jsonify(result)\n",
    "\n",
    "if __name__ == '__main__':\n",
    "    app.run(debug=False)"
   ]
  },
  {
   "cell_type": "code",
   "execution_count": null,
   "id": "d8a5f106",
   "metadata": {},
   "outputs": [],
   "source": []
  },
  {
   "cell_type": "code",
   "execution_count": null,
   "id": "c644d567",
   "metadata": {},
   "outputs": [],
   "source": []
  },
  {
   "cell_type": "code",
   "execution_count": null,
   "id": "b468785b",
   "metadata": {},
   "outputs": [],
   "source": []
  }
 ],
 "metadata": {
  "kernelspec": {
   "display_name": "Python 3 (ipykernel)",
   "language": "python",
   "name": "python3"
  },
  "language_info": {
   "codemirror_mode": {
    "name": "ipython",
    "version": 3
   },
   "file_extension": ".py",
   "mimetype": "text/x-python",
   "name": "python",
   "nbconvert_exporter": "python",
   "pygments_lexer": "ipython3",
   "version": "3.9.7"
  }
 },
 "nbformat": 4,
 "nbformat_minor": 5
}
