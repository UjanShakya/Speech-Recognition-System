{
 "cells": [
  {
   "cell_type": "code",
   "execution_count": 1,
   "id": "dd03ce6c",
   "metadata": {},
   "outputs": [],
   "source": [
    "import tensorflow.keras as keras\n",
    "import numpy as np\n",
    "import librosa"
   ]
  },
  {
   "cell_type": "code",
   "execution_count": 2,
   "id": "a9fd95f9",
   "metadata": {},
   "outputs": [],
   "source": [
    "MODEL_PATH = 'model.h5'\n",
    "SAMPLES_TO_CONSIDER = 22050 # 1 sec"
   ]
  },
  {
   "cell_type": "code",
   "execution_count": 7,
   "id": "1e558b6d",
   "metadata": {},
   "outputs": [],
   "source": [
    "class _Keyword_Spotting_Service:\n",
    "    #Singleton class for keyword spotting inference with trained models.\n",
    "    \n",
    "    model = None\n",
    "    _mappings = [\n",
    "        \"augmented_dataset\\\\down\",\n",
    "        \"augmented_dataset\\\\go\",\n",
    "        \"augmented_dataset\\\\left\",\n",
    "        \"augmented_dataset\\\\off\",\n",
    "        \"augmented_dataset\\\\on\",\n",
    "        \"augmented_dataset\\\\right\",\n",
    "        \"augmented_dataset\\\\stop\",\n",
    "        \"augmented_dataset\\\\up\",\n",
    "        \"augmented_dataset\\\\wow\",\n",
    "        \"augmented_dataset\\\\yes\"\n",
    "    ]\n",
    "    _instance = None\n",
    "    \n",
    "    def predict(self, file_path):\n",
    "        \n",
    "        #extract MFCCs\n",
    "        MFCCs = self.preprocess(file_path) # (# segments, # coefficients)\n",
    "        \n",
    "        #convert 2d MFCCs array into 4d array -> (samples, segments, coefficients, channels) \n",
    "        MFCCs = MFCCs[np.newaxis, ... , np.newaxis]\n",
    "        \n",
    "        #make prediction\n",
    "        predictions = self.model.predict(MFCCs) #[[0.1, 0.6, 0.1, ...]]\n",
    "        predicted_index = np.argmax(predictions)\n",
    "        predicted_keyword = self._mappings[predicted_index]\n",
    "        \n",
    "        return predicted_keyword\n",
    "        \n",
    "        \n",
    "    def preprocess(self, file_path, num_mfcc=13, n_fft=2048, hop_length=512):\n",
    "        \n",
    "        #load audio file\n",
    "        signal, sr = librosa.load(file_path)\n",
    "        \n",
    "        #ensure consistency in the audio file length\n",
    "        if len(signal) > SAMPLES_TO_CONSIDER:\n",
    "            signal = signal[:SAMPLES_TO_CONSIDER]\n",
    "        \n",
    "        #extract MFCC\n",
    "        MFCCs = librosa.feature.mfcc(signal, sr, n_mfcc=num_mfcc, n_fft=n_fft,hop_length=hop_length)\n",
    "        \n",
    "        return MFCCs.T\n",
    "    \n",
    "def Keyword_Spotting_Service():\n",
    "    # ensure that we only have 1 instance of KSS\n",
    "    if _Keyword_Spotting_Service._instance is None:\n",
    "        _Keyword_Spotting_Service._instance = _Keyword_Spotting_Service()\n",
    "        _Keyword_Spotting_Service.model = keras.models.load_model(MODEL_PATH)\n",
    "    \n",
    "    return _Keyword_Spotting_Service._instance"
   ]
  },
  {
   "cell_type": "code",
   "execution_count": 9,
   "id": "a255413f",
   "metadata": {},
   "outputs": [
    {
     "name": "stdout",
     "output_type": "stream",
     "text": [
      "Predicted Keywords: augmented_dataset\\down,augmented_dataset\\left\n"
     ]
    }
   ],
   "source": [
    "if __name__ == '__main__':\n",
    "    \n",
    "    kss = Keyword_Spotting_Service()\n",
    "    kss1 = Keyword_Spotting_Service()\n",
    "    assert kss is kss1\n",
    "    keyword1 = kss.predict(\"test/down.wav\")\n",
    "    keyword2 = kss.predict(\"test/left.wav\")\n",
    "    \n",
    "    print(f\"Predicted Keywords: {keyword1},{keyword2}\")"
   ]
  },
  {
   "cell_type": "code",
   "execution_count": null,
   "id": "42cda68f",
   "metadata": {},
   "outputs": [],
   "source": []
  }
 ],
 "metadata": {
  "kernelspec": {
   "display_name": "Python 3 (ipykernel)",
   "language": "python",
   "name": "python3"
  },
  "language_info": {
   "codemirror_mode": {
    "name": "ipython",
    "version": 3
   },
   "file_extension": ".py",
   "mimetype": "text/x-python",
   "name": "python",
   "nbconvert_exporter": "python",
   "pygments_lexer": "ipython3",
   "version": "3.9.7"
  }
 },
 "nbformat": 4,
 "nbformat_minor": 5
}
